import numpy as np
import pandas as pd
import matplotlib.pyplot as plt
import seaborn as sns
df=pd.read_csv("/content/drive/MyDrive/ProdigyInfotech/Metadata_Country_API_SP.POP.TOTL_DS2_en_csv_v2_6224560.csv")
df
df.head()
df.tail()
df.shape
df.columns
df.dtypes
df.info()
df.describe()
df=df.fillna(method="ffill")
df.head()
df['Country Code'].unique()
import seaborn as sns
print(df.head())

# Create a bar chart or histogram
# Replace 'column_name' with the actual column name you want to visualize

# Bar chart for a categorical variable
sns.countplot(x='IncomeGroup', data=df)
plt.title('Distribution of a Categorical Variable')
plt.show()

# Histogram for a continuous variable
plt.hist(df['Country Code'], bins=20, edgecolor='black')
plt.title('Distribution of a Continuous Variable')
plt.xlabel('Country Code')
plt.ylabel('TableName')
plt.show()



