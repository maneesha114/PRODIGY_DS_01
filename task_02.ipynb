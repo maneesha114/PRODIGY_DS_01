# Import libraries
import pandas as pd
import matplotlib.pyplot as plt
import seaborn as sns

# Load the Titanic dataset
url = "/content/drive/MyDrive/ProdigyInfotech/train.csv"
titanic = pd.read_csv(url)

# Display the first few rows of the dataset
print(titanic.head())

# Check for missing values
print(titanic.isnull().sum())

# Impute missing values
titanic['Age'].fillna(titanic['Age'].median(), inplace=True)
titanic['Embarked'].fillna(titanic['Embarked'].mode()[0], inplace=True)
titanic.drop('Cabin', axis=1, inplace=True)  # Drop Cabin column

# Explore the relationships between variables
# Let's start with a pair plot to visualize relationships between numerical variables
sns.pairplot(titanic, hue='Survived', diag_kind='kde')
plt.show()

# Explore the distribution of categorical variables
plt.figure(figsize=(12, 6))

# Plot the distribution of passenger class
plt.subplot(2, 3, 1)
sns.countplot(x='Pclass', hue='Survived', data=titanic)

# Plot the distribution of sex
plt.subplot(2, 3, 2)
sns.countplot(x='Sex', hue='Survived', data=titanic)

# Plot the distribution of embarked port
plt.subplot(2, 3, 3)
sns.countplot(x='Embarked', hue='Survived', data=titanic)

# Plot the distribution of siblings/spouses aboard
plt.subplot(2, 3, 4)
sns.countplot(x='SibSp', hue='Survived', data=titanic)

# Plot the distribution of parents/children aboard
plt.subplot(2, 3, 5)
sns.countplot(x='Parch', hue='Survived', data=titanic)

plt.tight_layout()
plt.show()
